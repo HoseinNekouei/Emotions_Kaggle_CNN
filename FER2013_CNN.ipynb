{
  "nbformat": 4,
  "nbformat_minor": 0,
  "metadata": {
    "colab": {
      "provenance": [],
      "gpuType": "T4",
      "authorship_tag": "ABX9TyPOwoBXdbnDYjfbkYmHkSrU",
      "include_colab_link": true
    },
    "kernelspec": {
      "name": "python3",
      "display_name": "Python 3"
    },
    "language_info": {
      "name": "python"
    },
    "accelerator": "GPU"
  },
  "cells": [
    {
      "cell_type": "markdown",
      "metadata": {
        "id": "view-in-github",
        "colab_type": "text"
      },
      "source": [
        "<a href=\"https://colab.research.google.com/github/HoseinNekouei/Emotions_Kaggle_CNN/blob/main/FER2013_CNN.ipynb\" target=\"_parent\"><img src=\"https://colab.research.google.com/assets/colab-badge.svg\" alt=\"Open In Colab\"/></a>"
      ]
    },
    {
      "cell_type": "code",
      "source": [
        "!nvidia-smi"
      ],
      "metadata": {
        "colab": {
          "base_uri": "https://localhost:8080/"
        },
        "id": "Xy4e1aczMBLk",
        "outputId": "77460ee4-73d6-4549-f136-88cfbf0f0501"
      },
      "execution_count": 26,
      "outputs": [
        {
          "output_type": "stream",
          "name": "stdout",
          "text": [
            "Fri Jun  2 17:38:06 2023       \n",
            "+-----------------------------------------------------------------------------+\n",
            "| NVIDIA-SMI 525.85.12    Driver Version: 525.85.12    CUDA Version: 12.0     |\n",
            "|-------------------------------+----------------------+----------------------+\n",
            "| GPU  Name        Persistence-M| Bus-Id        Disp.A | Volatile Uncorr. ECC |\n",
            "| Fan  Temp  Perf  Pwr:Usage/Cap|         Memory-Usage | GPU-Util  Compute M. |\n",
            "|                               |                      |               MIG M. |\n",
            "|===============================+======================+======================|\n",
            "|   0  Tesla T4            Off  | 00000000:00:04.0 Off |                    0 |\n",
            "| N/A   40C    P8    10W /  70W |      0MiB / 15360MiB |      0%      Default |\n",
            "|                               |                      |                  N/A |\n",
            "+-------------------------------+----------------------+----------------------+\n",
            "                                                                               \n",
            "+-----------------------------------------------------------------------------+\n",
            "| Processes:                                                                  |\n",
            "|  GPU   GI   CI        PID   Type   Process name                  GPU Memory |\n",
            "|        ID   ID                                                   Usage      |\n",
            "|=============================================================================|\n",
            "|  No running processes found                                                 |\n",
            "+-----------------------------------------------------------------------------+\n"
          ]
        }
      ]
    },
    {
      "cell_type": "code",
      "source": [
        "# Install the Kaggle Library\n",
        "! pip install kaggle"
      ],
      "metadata": {
        "colab": {
          "base_uri": "https://localhost:8080/"
        },
        "id": "23Ol4ighkT4E",
        "outputId": "ee8a697e-704e-4c43-8b29-c2b7d98396b5"
      },
      "execution_count": 5,
      "outputs": [
        {
          "output_type": "stream",
          "name": "stdout",
          "text": [
            "Looking in indexes: https://pypi.org/simple, https://us-python.pkg.dev/colab-wheels/public/simple/\n",
            "Requirement already satisfied: kaggle in /usr/local/lib/python3.10/dist-packages (1.5.13)\n",
            "Requirement already satisfied: six>=1.10 in /usr/local/lib/python3.10/dist-packages (from kaggle) (1.16.0)\n",
            "Requirement already satisfied: certifi in /usr/local/lib/python3.10/dist-packages (from kaggle) (2022.12.7)\n",
            "Requirement already satisfied: python-dateutil in /usr/local/lib/python3.10/dist-packages (from kaggle) (2.8.2)\n",
            "Requirement already satisfied: requests in /usr/local/lib/python3.10/dist-packages (from kaggle) (2.27.1)\n",
            "Requirement already satisfied: tqdm in /usr/local/lib/python3.10/dist-packages (from kaggle) (4.65.0)\n",
            "Requirement already satisfied: python-slugify in /usr/local/lib/python3.10/dist-packages (from kaggle) (8.0.1)\n",
            "Requirement already satisfied: urllib3 in /usr/local/lib/python3.10/dist-packages (from kaggle) (1.26.15)\n",
            "Requirement already satisfied: text-unidecode>=1.3 in /usr/local/lib/python3.10/dist-packages (from python-slugify->kaggle) (1.3)\n",
            "Requirement already satisfied: charset-normalizer~=2.0.0 in /usr/local/lib/python3.10/dist-packages (from requests->kaggle) (2.0.12)\n",
            "Requirement already satisfied: idna<4,>=2.5 in /usr/local/lib/python3.10/dist-packages (from requests->kaggle) (3.4)\n"
          ]
        }
      ]
    },
    {
      "cell_type": "code",
      "source": [
        "# Make a directory namde \".Kaggle\"\n",
        "! rm -r ~/.kaggle\n",
        "! mkdir ~/.kaggle"
      ],
      "metadata": {
        "id": "ELEzm8D9l-JA"
      },
      "execution_count": 6,
      "outputs": []
    },
    {
      "cell_type": "code",
      "source": [
        "from google.colab import files\n",
        "files.upload()"
      ],
      "metadata": {
        "colab": {
          "base_uri": "https://localhost:8080/",
          "height": 108
        },
        "id": "jyUinBAunhS_",
        "outputId": "c1dc19fb-c859-4ac2-ff15-4000ffe0084b"
      },
      "execution_count": 7,
      "outputs": [
        {
          "output_type": "display_data",
          "data": {
            "text/plain": [
              "<IPython.core.display.HTML object>"
            ],
            "text/html": [
              "\n",
              "     <input type=\"file\" id=\"files-8df45caa-c10d-4cc2-acb6-5cc796caebba\" name=\"files[]\" multiple disabled\n",
              "        style=\"border:none\" />\n",
              "     <output id=\"result-8df45caa-c10d-4cc2-acb6-5cc796caebba\">\n",
              "      Upload widget is only available when the cell has been executed in the\n",
              "      current browser session. Please rerun this cell to enable.\n",
              "      </output>\n",
              "      <script>// Copyright 2017 Google LLC\n",
              "//\n",
              "// Licensed under the Apache License, Version 2.0 (the \"License\");\n",
              "// you may not use this file except in compliance with the License.\n",
              "// You may obtain a copy of the License at\n",
              "//\n",
              "//      http://www.apache.org/licenses/LICENSE-2.0\n",
              "//\n",
              "// Unless required by applicable law or agreed to in writing, software\n",
              "// distributed under the License is distributed on an \"AS IS\" BASIS,\n",
              "// WITHOUT WARRANTIES OR CONDITIONS OF ANY KIND, either express or implied.\n",
              "// See the License for the specific language governing permissions and\n",
              "// limitations under the License.\n",
              "\n",
              "/**\n",
              " * @fileoverview Helpers for google.colab Python module.\n",
              " */\n",
              "(function(scope) {\n",
              "function span(text, styleAttributes = {}) {\n",
              "  const element = document.createElement('span');\n",
              "  element.textContent = text;\n",
              "  for (const key of Object.keys(styleAttributes)) {\n",
              "    element.style[key] = styleAttributes[key];\n",
              "  }\n",
              "  return element;\n",
              "}\n",
              "\n",
              "// Max number of bytes which will be uploaded at a time.\n",
              "const MAX_PAYLOAD_SIZE = 100 * 1024;\n",
              "\n",
              "function _uploadFiles(inputId, outputId) {\n",
              "  const steps = uploadFilesStep(inputId, outputId);\n",
              "  const outputElement = document.getElementById(outputId);\n",
              "  // Cache steps on the outputElement to make it available for the next call\n",
              "  // to uploadFilesContinue from Python.\n",
              "  outputElement.steps = steps;\n",
              "\n",
              "  return _uploadFilesContinue(outputId);\n",
              "}\n",
              "\n",
              "// This is roughly an async generator (not supported in the browser yet),\n",
              "// where there are multiple asynchronous steps and the Python side is going\n",
              "// to poll for completion of each step.\n",
              "// This uses a Promise to block the python side on completion of each step,\n",
              "// then passes the result of the previous step as the input to the next step.\n",
              "function _uploadFilesContinue(outputId) {\n",
              "  const outputElement = document.getElementById(outputId);\n",
              "  const steps = outputElement.steps;\n",
              "\n",
              "  const next = steps.next(outputElement.lastPromiseValue);\n",
              "  return Promise.resolve(next.value.promise).then((value) => {\n",
              "    // Cache the last promise value to make it available to the next\n",
              "    // step of the generator.\n",
              "    outputElement.lastPromiseValue = value;\n",
              "    return next.value.response;\n",
              "  });\n",
              "}\n",
              "\n",
              "/**\n",
              " * Generator function which is called between each async step of the upload\n",
              " * process.\n",
              " * @param {string} inputId Element ID of the input file picker element.\n",
              " * @param {string} outputId Element ID of the output display.\n",
              " * @return {!Iterable<!Object>} Iterable of next steps.\n",
              " */\n",
              "function* uploadFilesStep(inputId, outputId) {\n",
              "  const inputElement = document.getElementById(inputId);\n",
              "  inputElement.disabled = false;\n",
              "\n",
              "  const outputElement = document.getElementById(outputId);\n",
              "  outputElement.innerHTML = '';\n",
              "\n",
              "  const pickedPromise = new Promise((resolve) => {\n",
              "    inputElement.addEventListener('change', (e) => {\n",
              "      resolve(e.target.files);\n",
              "    });\n",
              "  });\n",
              "\n",
              "  const cancel = document.createElement('button');\n",
              "  inputElement.parentElement.appendChild(cancel);\n",
              "  cancel.textContent = 'Cancel upload';\n",
              "  const cancelPromise = new Promise((resolve) => {\n",
              "    cancel.onclick = () => {\n",
              "      resolve(null);\n",
              "    };\n",
              "  });\n",
              "\n",
              "  // Wait for the user to pick the files.\n",
              "  const files = yield {\n",
              "    promise: Promise.race([pickedPromise, cancelPromise]),\n",
              "    response: {\n",
              "      action: 'starting',\n",
              "    }\n",
              "  };\n",
              "\n",
              "  cancel.remove();\n",
              "\n",
              "  // Disable the input element since further picks are not allowed.\n",
              "  inputElement.disabled = true;\n",
              "\n",
              "  if (!files) {\n",
              "    return {\n",
              "      response: {\n",
              "        action: 'complete',\n",
              "      }\n",
              "    };\n",
              "  }\n",
              "\n",
              "  for (const file of files) {\n",
              "    const li = document.createElement('li');\n",
              "    li.append(span(file.name, {fontWeight: 'bold'}));\n",
              "    li.append(span(\n",
              "        `(${file.type || 'n/a'}) - ${file.size} bytes, ` +\n",
              "        `last modified: ${\n",
              "            file.lastModifiedDate ? file.lastModifiedDate.toLocaleDateString() :\n",
              "                                    'n/a'} - `));\n",
              "    const percent = span('0% done');\n",
              "    li.appendChild(percent);\n",
              "\n",
              "    outputElement.appendChild(li);\n",
              "\n",
              "    const fileDataPromise = new Promise((resolve) => {\n",
              "      const reader = new FileReader();\n",
              "      reader.onload = (e) => {\n",
              "        resolve(e.target.result);\n",
              "      };\n",
              "      reader.readAsArrayBuffer(file);\n",
              "    });\n",
              "    // Wait for the data to be ready.\n",
              "    let fileData = yield {\n",
              "      promise: fileDataPromise,\n",
              "      response: {\n",
              "        action: 'continue',\n",
              "      }\n",
              "    };\n",
              "\n",
              "    // Use a chunked sending to avoid message size limits. See b/62115660.\n",
              "    let position = 0;\n",
              "    do {\n",
              "      const length = Math.min(fileData.byteLength - position, MAX_PAYLOAD_SIZE);\n",
              "      const chunk = new Uint8Array(fileData, position, length);\n",
              "      position += length;\n",
              "\n",
              "      const base64 = btoa(String.fromCharCode.apply(null, chunk));\n",
              "      yield {\n",
              "        response: {\n",
              "          action: 'append',\n",
              "          file: file.name,\n",
              "          data: base64,\n",
              "        },\n",
              "      };\n",
              "\n",
              "      let percentDone = fileData.byteLength === 0 ?\n",
              "          100 :\n",
              "          Math.round((position / fileData.byteLength) * 100);\n",
              "      percent.textContent = `${percentDone}% done`;\n",
              "\n",
              "    } while (position < fileData.byteLength);\n",
              "  }\n",
              "\n",
              "  // All done.\n",
              "  yield {\n",
              "    response: {\n",
              "      action: 'complete',\n",
              "    }\n",
              "  };\n",
              "}\n",
              "\n",
              "scope.google = scope.google || {};\n",
              "scope.google.colab = scope.google.colab || {};\n",
              "scope.google.colab._files = {\n",
              "  _uploadFiles,\n",
              "  _uploadFilesContinue,\n",
              "};\n",
              "})(self);\n",
              "</script> "
            ]
          },
          "metadata": {}
        },
        {
          "output_type": "stream",
          "name": "stdout",
          "text": [
            "Saving kaggle.json to kaggle.json\n"
          ]
        },
        {
          "output_type": "execute_result",
          "data": {
            "text/plain": [
              "{'kaggle.json': b'{\"username\":\"hoseinnekouei\",\"key\":\"34e4ab84293ea07bb056bb90dbb9733c\"}'}"
            ]
          },
          "metadata": {},
          "execution_count": 7
        }
      ]
    },
    {
      "cell_type": "code",
      "source": [
        "# copy the \"Kaggle.json\" into the new directory\n",
        "! mv kaggle.json ~/.kaggle/"
      ],
      "metadata": {
        "id": "Bueqnh6yl_zL"
      },
      "execution_count": 8,
      "outputs": []
    },
    {
      "cell_type": "code",
      "source": [
        "# Allocate the required permission for this file.\n",
        "! chmod 600 ~/.kaggle/kaggle.json"
      ],
      "metadata": {
        "id": "fgDqKPHfmBFQ"
      },
      "execution_count": 9,
      "outputs": []
    },
    {
      "cell_type": "code",
      "source": [
        "# download Dataset\n",
        "! kaggle datasets download -d aspiring1/fer2013-images"
      ],
      "metadata": {
        "colab": {
          "base_uri": "https://localhost:8080/"
        },
        "id": "In4r_JDVm75Z",
        "outputId": "1588c0a8-8a01-4a05-84b6-e8e611f27d27"
      },
      "execution_count": 18,
      "outputs": [
        {
          "output_type": "stream",
          "name": "stdout",
          "text": [
            "Downloading fer2013-images.zip to /content\n",
            " 99% 121M/122M [00:03<00:00, 42.6MB/s]\n",
            "100% 122M/122M [00:03<00:00, 35.0MB/s]\n"
          ]
        }
      ]
    },
    {
      "cell_type": "markdown",
      "source": [
        " move zip file from mydrive to content\n",
        "\n",
        "! cp /content/drive/MyDrive/fer2013-images.zip /content/datasets/fer2013-images.zip"
      ],
      "metadata": {
        "id": "_PECTh4YBQau"
      }
    },
    {
      "cell_type": "code",
      "source": [
        "# unzip dataset\n",
        "! rm -r Datasets/\n",
        "! mkdir Datasets\n",
        "\n",
        "! unzip -q /content/fer2013-images.zip -d /content/Datasets\n",
        "! rm /content/fer2013-images.zip\n"
      ],
      "metadata": {
        "id": "D-xh7VV3_Byq"
      },
      "execution_count": 19,
      "outputs": []
    },
    {
      "cell_type": "code",
      "source": [
        "! rm -r /content/Datasets/images"
      ],
      "metadata": {
        "id": "DxZp_931B6Oq"
      },
      "execution_count": 20,
      "outputs": []
    },
    {
      "cell_type": "code",
      "source": [
        "from glob import glob\n",
        "import cv2 as cv\n",
        "import numpy as np\n",
        "from sklearn.model_selection import train_test_split\n"
      ],
      "metadata": {
        "id": "ufPznlDECGMU"
      },
      "execution_count": 21,
      "outputs": []
    },
    {
      "cell_type": "code",
      "source": [
        "datalist = []\n",
        "labels = []\n",
        "\n",
        "for index, item in enumerate(glob('/content/Datasets/images_fer2013/Training/*/*')):\n",
        "  img = cv.imread(item)\n",
        "  img = cv.resize(img,(48,48))\n",
        "  img = img / 255.0\n",
        "\n",
        "  datalist.append(img)\n",
        "\n",
        "  label = item.split('/')[-2]\n",
        "  labels.append(label)\n",
        "\n",
        "  if index % 1000 == 0:\n",
        "    print(f'[Info]: {index}/28700 images processed !')\n",
        "\n",
        "datalist = np.array(datalist)\n",
        "\n",
        "x_train, x_test, y_train, y_test = train_test_split(\n",
        "        datalist, labels, test_size=0.20, random_state=42)"
      ],
      "metadata": {
        "colab": {
          "base_uri": "https://localhost:8080/"
        },
        "id": "KjMrcqnlCQET",
        "outputId": "ed175741-b8a0-4aec-c9d2-d469b5f50401"
      },
      "execution_count": 35,
      "outputs": [
        {
          "output_type": "stream",
          "name": "stdout",
          "text": [
            "[Info]: 0/28700 images processed !\n",
            "[Info]: 1000/28700 images processed !\n",
            "[Info]: 2000/28700 images processed !\n",
            "[Info]: 3000/28700 images processed !\n",
            "[Info]: 4000/28700 images processed !\n",
            "[Info]: 5000/28700 images processed !\n",
            "[Info]: 6000/28700 images processed !\n",
            "[Info]: 7000/28700 images processed !\n",
            "[Info]: 8000/28700 images processed !\n",
            "[Info]: 9000/28700 images processed !\n",
            "[Info]: 10000/28700 images processed !\n",
            "[Info]: 11000/28700 images processed !\n",
            "[Info]: 12000/28700 images processed !\n",
            "[Info]: 13000/28700 images processed !\n",
            "[Info]: 14000/28700 images processed !\n",
            "[Info]: 15000/28700 images processed !\n",
            "[Info]: 16000/28700 images processed !\n",
            "[Info]: 17000/28700 images processed !\n",
            "[Info]: 18000/28700 images processed !\n",
            "[Info]: 19000/28700 images processed !\n",
            "[Info]: 20000/28700 images processed !\n",
            "[Info]: 21000/28700 images processed !\n",
            "[Info]: 22000/28700 images processed !\n",
            "[Info]: 23000/28700 images processed !\n",
            "[Info]: 24000/28700 images processed !\n",
            "[Info]: 25000/28700 images processed !\n",
            "[Info]: 26000/28700 images processed !\n",
            "[Info]: 27000/28700 images processed !\n",
            "[Info]: 28000/28700 images processed !\n"
          ]
        }
      ]
    },
    {
      "cell_type": "code",
      "source": [
        "! pip install keras"
      ],
      "metadata": {
        "id": "Pc2apyUvId7b"
      },
      "execution_count": null,
      "outputs": []
    },
    {
      "cell_type": "code",
      "source": [
        "from sklearn.preprocessing import LabelEncoder\n",
        "from keras.utils import to_categorical\n",
        "\n",
        "le = LabelEncoder()\n",
        "\n",
        "y_train = le.fit_transform(y_train)\n",
        "y_test = le.transform(y_test)\n",
        "\n",
        "y_train = to_categorical(y_train)\n",
        "y_test = to_categorical(y_test)"
      ],
      "metadata": {
        "id": "0Yr2wh9hF2BR"
      },
      "execution_count": 42,
      "outputs": []
    },
    {
      "cell_type": "code",
      "source": [
        "from keras import models, layers\n",
        "from keras.optimizers import Adam\n",
        "from keras.preprocessing.image import ImageDataGenerator"
      ],
      "metadata": {
        "id": "OauKsz_aUK1P"
      },
      "execution_count": 51,
      "outputs": []
    },
    {
      "cell_type": "code",
      "source": [
        "from keras.layers.core.dense import Dense\n",
        "opt = Adam(learning_rate = 0.001, decay = 0.00025)\n",
        "\n",
        "aug = ImageDataGenerator(rotation_range = 20,\n",
        "                         horizontal_flip=True,\n",
        "                         zoom_range = 0.1,\n",
        "                         brightness_range =(0.4,1.5),\n",
        "                         fill_mode='nearest')\n",
        "\n",
        "net = models.Sequential([\n",
        "                         layers.Conv2D(32,(3,3), strides=(2,2),padding='same', input_shape=(48,48,3)),\n",
        "                         layers.LeakyReLU(alpha=0.1),\n",
        "                         layers.BatchNormalization(),\n",
        "                         layers.Dropout(0.4),\n",
        "\n",
        "                         layers.Conv2D(64,(3,3), strides=(2,2), padding='same'),\n",
        "                         layers.LeakyReLU(alpha=0.1),\n",
        "                         layers.BatchNormalization(),\n",
        "                         layers.Dropout(0.4),\n",
        "\n",
        "                         layers.Conv2D(128,(3,3), strides=(2,2),padding='same'),\n",
        "                         layers.LeakyReLU(alpha=0.1),\n",
        "                         layers.BatchNormalization(),\n",
        "                         layers.Dropout(0.4),\n",
        "\n",
        "                         layers.Conv2D(128,(3,3), strides=(2,2),padding='same'),\n",
        "                         layers.LeakyReLU(alpha=0.1),\n",
        "                         layers.BatchNormalization(),\n",
        "                         layers.Dropout(0.4),\n",
        "\n",
        "                         layers.Flatten(),\n",
        "\n",
        "                         layers.Dense(1024),\n",
        "                         layers.LeakyReLU(alpha=0.1),\n",
        "                         layers.BatchNormalization(),\n",
        "                         layers.Dropout(0.4),\n",
        "                        \n",
        "                        layers.Dense(7, activation='softmax')\n",
        "                         ])\n",
        "\n",
        "net.compile(opt,\n",
        "            loss='categorical_crossentropy',\n",
        "            metrics = ['accuracy'])\n",
        "\n",
        "net.summary()\n",
        "\n"
      ],
      "metadata": {
        "colab": {
          "base_uri": "https://localhost:8080/"
        },
        "id": "3fj-Q37cUUWb",
        "outputId": "c77262d0-d8fd-488d-ef34-db6ed30a64eb"
      },
      "execution_count": 61,
      "outputs": [
        {
          "output_type": "stream",
          "name": "stdout",
          "text": [
            "Model: \"sequential_2\"\n",
            "_________________________________________________________________\n",
            " Layer (type)                Output Shape              Param #   \n",
            "=================================================================\n",
            " conv2d_9 (Conv2D)           (None, 24, 24, 32)        896       \n",
            "                                                                 \n",
            " leaky_re_lu_10 (LeakyReLU)  (None, 24, 24, 32)        0         \n",
            "                                                                 \n",
            " batch_normalization_10 (Bat  (None, 24, 24, 32)       128       \n",
            " chNormalization)                                                \n",
            "                                                                 \n",
            " dropout_10 (Dropout)        (None, 24, 24, 32)        0         \n",
            "                                                                 \n",
            " conv2d_10 (Conv2D)          (None, 12, 12, 64)        18496     \n",
            "                                                                 \n",
            " leaky_re_lu_11 (LeakyReLU)  (None, 12, 12, 64)        0         \n",
            "                                                                 \n",
            " batch_normalization_11 (Bat  (None, 12, 12, 64)       256       \n",
            " chNormalization)                                                \n",
            "                                                                 \n",
            " dropout_11 (Dropout)        (None, 12, 12, 64)        0         \n",
            "                                                                 \n",
            " conv2d_11 (Conv2D)          (None, 6, 6, 128)         73856     \n",
            "                                                                 \n",
            " leaky_re_lu_12 (LeakyReLU)  (None, 6, 6, 128)         0         \n",
            "                                                                 \n",
            " batch_normalization_12 (Bat  (None, 6, 6, 128)        512       \n",
            " chNormalization)                                                \n",
            "                                                                 \n",
            " dropout_12 (Dropout)        (None, 6, 6, 128)         0         \n",
            "                                                                 \n",
            " conv2d_12 (Conv2D)          (None, 3, 3, 128)         147584    \n",
            "                                                                 \n",
            " leaky_re_lu_13 (LeakyReLU)  (None, 3, 3, 128)         0         \n",
            "                                                                 \n",
            " batch_normalization_13 (Bat  (None, 3, 3, 128)        512       \n",
            " chNormalization)                                                \n",
            "                                                                 \n",
            " dropout_13 (Dropout)        (None, 3, 3, 128)         0         \n",
            "                                                                 \n",
            " flatten_2 (Flatten)         (None, 1152)              0         \n",
            "                                                                 \n",
            " dense_4 (Dense)             (None, 1024)              1180672   \n",
            "                                                                 \n",
            " leaky_re_lu_14 (LeakyReLU)  (None, 1024)              0         \n",
            "                                                                 \n",
            " batch_normalization_14 (Bat  (None, 1024)             4096      \n",
            " chNormalization)                                                \n",
            "                                                                 \n",
            " dropout_14 (Dropout)        (None, 1024)              0         \n",
            "                                                                 \n",
            " dense_5 (Dense)             (None, 7)                 7175      \n",
            "                                                                 \n",
            "=================================================================\n",
            "Total params: 1,434,183\n",
            "Trainable params: 1,431,431\n",
            "Non-trainable params: 2,752\n",
            "_________________________________________________________________\n"
          ]
        }
      ]
    },
    {
      "cell_type": "code",
      "source": [
        "BATCHSIZE = 32\n",
        "EPOCHS = 50\n",
        "    \n",
        "H = net.fit(aug.flow(x_train, y_train, batch_size=BATCHSIZE),\n",
        "            steps_per_epoch=len(x_train)//BATCHSIZE,\n",
        "            epochs=EPOCHS, validation_data=(x_test, y_test))\n",
        "\n",
        "loss, accuracy = net.evaluate(x_test, y_test)\n",
        "\n",
        "print(f'Test loss: {loss :.2f}, Test accuracy: {accuracy :.2f}')"
      ],
      "metadata": {
        "colab": {
          "base_uri": "https://localhost:8080/"
        },
        "id": "zD1QZQHTZE8B",
        "outputId": "d90171fe-1e8f-466d-f6d9-27465d1329ac"
      },
      "execution_count": null,
      "outputs": [
        {
          "output_type": "stream",
          "name": "stdout",
          "text": [
            "Epoch 1/50\n",
            "717/717 [==============================] - 44s 47ms/step - loss: 2.3852 - accuracy: 0.1982 - val_loss: 25.4193 - val_accuracy: 0.1728\n",
            "Epoch 2/50\n",
            "717/717 [==============================] - 53s 74ms/step - loss: 2.0165 - accuracy: 0.2225 - val_loss: 24.8277 - val_accuracy: 0.1388\n",
            "Epoch 3/50\n",
            "717/717 [==============================] - 39s 55ms/step - loss: 1.9472 - accuracy: 0.2275 - val_loss: 39.2822 - val_accuracy: 0.1743\n",
            "Epoch 4/50\n",
            "717/717 [==============================] - 30s 42ms/step - loss: 1.9071 - accuracy: 0.2343 - val_loss: 48.7096 - val_accuracy: 0.1465\n",
            "Epoch 5/50\n",
            "717/717 [==============================] - 30s 42ms/step - loss: 1.8969 - accuracy: 0.2342 - val_loss: 27.5516 - val_accuracy: 0.1506\n",
            "Epoch 6/50\n",
            "717/717 [==============================] - 30s 42ms/step - loss: 1.8879 - accuracy: 0.2395 - val_loss: 19.6264 - val_accuracy: 0.1073\n",
            "Epoch 7/50\n",
            "717/717 [==============================] - 30s 42ms/step - loss: 1.8760 - accuracy: 0.2398 - val_loss: 17.6660 - val_accuracy: 0.2487\n",
            "Epoch 8/50\n",
            "717/717 [==============================] - 30s 42ms/step - loss: 1.8702 - accuracy: 0.2409 - val_loss: 24.3511 - val_accuracy: 0.2473\n"
          ]
        }
      ]
    },
    {
      "cell_type": "code",
      "source": [
        "import matplotlib.pyplot as plt\n",
        "\n",
        "plt.style.use('ggplot')\n",
        "plt.plot(np.arange(EPOCHS), H.history['loss'], label='Train loss')\n",
        "plt.plot(np.arange(EPOCHS), H.history['accuracy'], label='Train accuracy')\n",
        "plt.plot(np.arange(EPOCHS), H.history['val_loss'], label='Test loss')\n",
        "plt.plot(np.arange(EPOCHS), H.history['val_accuracy'], label='Test accuracy')\n",
        "\n",
        "plt.legend()\n",
        "plt.xlabel('Epochs')\n",
        "plt.ylabel('Loss/Accuracy')\n",
        "plt.title('emotions dataset Training')\n",
        "\n",
        "plt.show()"
      ],
      "metadata": {
        "id": "BjDdZ3V_abWT"
      },
      "execution_count": null,
      "outputs": []
    }
  ]
}